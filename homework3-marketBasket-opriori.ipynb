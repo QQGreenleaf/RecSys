{
 "cells": [
  {
   "cell_type": "code",
   "execution_count": 24,
   "metadata": {},
   "outputs": [],
   "source": [
    "import pandas as pd\n",
    "import numpy as np\n",
    "import time\n",
    "from efficient_apriori import apriori"
   ]
  },
  {
   "cell_type": "code",
   "execution_count": 2,
   "metadata": {},
   "outputs": [],
   "source": [
    "# 数据加载\n",
    "data = pd.read_csv('Market_Basket_Optimisation.csv',header=None)"
   ]
  },
  {
   "cell_type": "code",
   "execution_count": 22,
   "metadata": {},
   "outputs": [
    {
     "data": {
      "text/plain": [
       "7501"
      ]
     },
     "execution_count": 22,
     "metadata": {},
     "output_type": "execute_result"
    }
   ],
   "source": [
    "# 获取transaction\n",
    "transactions = []\n",
    "for indexs in data.index:\n",
    "    _list = [i for i in list(data.loc[indexs].values[0:-1]) if pd.notnull(i)]\n",
    "    transactions.append(set(_list))\n",
    "len(transactions)"
   ]
  },
  {
   "cell_type": "code",
   "execution_count": 31,
   "metadata": {},
   "outputs": [
    {
     "name": "stdout",
     "output_type": "stream",
     "text": [
      "频繁项集： {1: {('burgers',): 654, ('cake',): 608, ('chicken',): 450, ('chocolate',): 1229, ('cookies',): 603, ('cooking oil',): 383, ('eggs',): 1348, ('escalope',): 595, ('french fries',): 1282, ('frozen smoothie',): 475, ('frozen vegetables',): 715, ('grated cheese',): 393, ('green tea',): 991, ('ground beef',): 737, ('low fat yogurt',): 574, ('milk',): 972, ('mineral water',): 1788, ('olive oil',): 493, ('pancakes',): 713, ('shrimp',): 536, ('soup',): 379, ('spaghetti',): 1306, ('tomatoes',): 513, ('turkey',): 469, ('whole wheat rice',): 439}, 2: {('chocolate', 'mineral water'): 395, ('eggs', 'mineral water'): 382, ('mineral water', 'spaghetti'): 448}}\n",
      "关联规则： [{chocolate} -> {mineral water}, {spaghetti} -> {mineral water}]\n",
      "用时： 0.20267009735107422\n"
     ]
    }
   ],
   "source": [
    "# 挖掘频繁项集和频繁规则\n",
    "start = time.time()\n",
    "itemsets, rules = apriori(transactions, min_support=0.05, min_confidence=0.3)\n",
    "print('频繁项集：', itemsets)\n",
    "print('关联规则：', rules)\n",
    "end = time.time()\n",
    "print(\"用时：\", end-start)"
   ]
  }
 ],
 "metadata": {
  "kernelspec": {
   "display_name": "Python 3",
   "language": "python",
   "name": "python3"
  },
  "language_info": {
   "codemirror_mode": {
    "name": "ipython",
    "version": 3
   },
   "file_extension": ".py",
   "mimetype": "text/x-python",
   "name": "python",
   "nbconvert_exporter": "python",
   "pygments_lexer": "ipython3",
   "version": "3.7.3"
  }
 },
 "nbformat": 4,
 "nbformat_minor": 4
}
