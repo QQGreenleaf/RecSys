{
 "cells": [
  {
   "cell_type": "markdown",
   "metadata": {},
   "source": [
    "**Thingking1:**`高德地图中的路径规划原理是怎样的？`"
   ]
  },
  {
   "cell_type": "markdown",
   "metadata": {},
   "source": [
    "答复：首先将地图抽象成图，然后利用最短路径算法实现。将地图上每个岔路口看作顶点，将岔路口与岔路口之间的路看成一条边，如果路是单行道，在顶点之间画一条有向边，如果是双行道，在两个顶点之间画两条不同方向的有向边。根据当前每个道路车辆行驶速度，计算通行时间用于标记图上每个有向边的权重以及标记不同颜色。这样，整个地图就被标记成了一个有向有权图。"
   ]
  },
  {
   "cell_type": "markdown",
   "metadata": {},
   "source": [
    "**Thingking2:**`football.gml数据集中，美国大学生足球联赛，包括115支球队，被分为12个联盟。为什么使用LPA标签传播进行社区发现，只发现了11个社区？`"
   ]
  },
  {
   "cell_type": "markdown",
   "metadata": {},
   "source": [
    "答复：联盟个数是球队的静态属性，根据所在社区或地区进行分组；而LPA标签传播分组基于球队动态行为，即球队互相之间是否打比赛的行为进行划分。"
   ]
  },
  {
   "cell_type": "markdown",
   "metadata": {},
   "source": [
    "**Thingking3:**`微博采用了类似FaceBook的EdgeRank算法，如果你给微博的信息流做设计，你会如何设计？`"
   ]
  },
  {
   "cell_type": "markdown",
   "metadata": {},
   "source": [
    "答复：主要考虑如下因素：   \n",
    "1）粉丝亲密度：平日里，你和这个朋友“走动”是否频率，连接是否紧密。可通过点赞，评论，私信等行为判断；   \n",
    "2）内容质量：根据内容形式，是文字，照片还是链接，视频内容，链接内容；   \n",
    "3）原创程度：根据内容发布时间先后顺序判断等   \n",
    "4）用户偏好：用深度神经网络理解图片内容和文字内容，了解物体是否用户感兴趣的   \n",
    "找到如上影响排序的特征，然后将特征交给机器学习模型，从而找到最优的权重，并进行排序。最终，按照时间线给用户推荐Top-N的信息。"
   ]
  }
 ],
 "metadata": {
  "kernelspec": {
   "display_name": "Python 3",
   "language": "python",
   "name": "python3"
  },
  "language_info": {
   "codemirror_mode": {
    "name": "ipython",
    "version": 3
   },
   "file_extension": ".py",
   "mimetype": "text/x-python",
   "name": "python",
   "nbconvert_exporter": "python",
   "pygments_lexer": "ipython3",
   "version": "3.7.3"
  }
 },
 "nbformat": 4,
 "nbformat_minor": 4
}
