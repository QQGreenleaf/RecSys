{
 "cells": [
  {
   "cell_type": "code",
   "execution_count": 1,
   "metadata": {},
   "outputs": [],
   "source": [
    "#使用LR进行员工离职率预测"
   ]
  },
  {
   "cell_type": "code",
   "execution_count": 22,
   "metadata": {},
   "outputs": [
    {
     "name": "stdout",
     "output_type": "stream",
     "text": [
      "Collecting lightgbm\n",
      "  Downloading https://files.pythonhosted.org/packages/1f/cb/a8ec24334c35a7d0c87b4e4e056bd2137573c7c1bd81c760b79a2f370254/lightgbm-2.3.1-py2.py3-none-win_amd64.whl (544kB)\n",
      "Requirement already satisfied: scipy in c:\\programdata\\anaconda3\\lib\\site-packages (from lightgbm) (1.1.0)\n",
      "Requirement already satisfied: numpy in c:\\programdata\\anaconda3\\lib\\site-packages (from lightgbm) (1.15.4)\n",
      "Requirement already satisfied: scikit-learn in c:\\programdata\\anaconda3\\lib\\site-packages (from lightgbm) (0.20.1)\n",
      "Installing collected packages: lightgbm\n",
      "Successfully installed lightgbm-2.3.1\n"
     ]
    }
   ],
   "source": [
    "!pip install lightgbm"
   ]
  },
  {
   "cell_type": "code",
   "execution_count": 23,
   "metadata": {},
   "outputs": [],
   "source": [
    "# 导包\n",
    "from sklearn.model_selection import train_test_split\n",
    "from sklearn import preprocessing\n",
    "from sklearn.metrics import accuracy_score\n",
    "from sklearn.datasets import load_digits\n",
    "from sklearn.linear_model import LogisticRegression\n",
    "from sklearn.preprocessing import LabelEncoder\n",
    "import matplotlib.pyplot as plt\n",
    "import pandas as pd\n",
    "from sklearn.metrics import roc_auc_score\n",
    "import lightgbm as lgb\n",
    "#tqdm\n",
    "from tqdm import tqdm_notebook\n",
    "from tqdm import tqdm\n",
    "#warning\n",
    "import warnings\n",
    "warnings.filterwarnings(\"ignore\")"
   ]
  },
  {
   "cell_type": "markdown",
   "metadata": {},
   "source": [
    "`导入数据`"
   ]
  },
  {
   "cell_type": "code",
   "execution_count": 5,
   "metadata": {},
   "outputs": [],
   "source": [
    "test = pd.read_csv('test.csv')\n",
    "train = pd.read_csv('train.csv')"
   ]
  },
  {
   "cell_type": "code",
   "execution_count": 6,
   "metadata": {
    "collapsed": true
   },
   "outputs": [
    {
     "name": "stdout",
     "output_type": "stream",
     "text": [
      "<class 'pandas.core.frame.DataFrame'>\n",
      "RangeIndex: 1176 entries, 0 to 1175\n",
      "Data columns (total 36 columns):\n",
      "uesr_id                     1176 non-null int64\n",
      "Age                         1176 non-null int64\n",
      "Attrition                   1176 non-null object\n",
      "BusinessTravel              1176 non-null object\n",
      "DailyRate                   1176 non-null int64\n",
      "Department                  1176 non-null object\n",
      "DistanceFromHome            1176 non-null int64\n",
      "Education                   1176 non-null int64\n",
      "EducationField              1176 non-null object\n",
      "EmployeeCount               1176 non-null int64\n",
      "EmployeeNumber              1176 non-null int64\n",
      "EnvironmentSatisfaction     1176 non-null int64\n",
      "Gender                      1176 non-null object\n",
      "HourlyRate                  1176 non-null int64\n",
      "JobInvolvement              1176 non-null int64\n",
      "JobLevel                    1176 non-null int64\n",
      "JobRole                     1176 non-null object\n",
      "JobSatisfaction             1176 non-null int64\n",
      "MaritalStatus               1176 non-null object\n",
      "MonthlyIncome               1176 non-null int64\n",
      "MonthlyRate                 1176 non-null int64\n",
      "NumCompaniesWorked          1176 non-null int64\n",
      "Over18                      1176 non-null object\n",
      "OverTime                    1176 non-null object\n",
      "PercentSalaryHike           1176 non-null int64\n",
      "PerformanceRating           1176 non-null int64\n",
      "RelationshipSatisfaction    1176 non-null int64\n",
      "StandardHours               1176 non-null int64\n",
      "StockOptionLevel            1176 non-null int64\n",
      "TotalWorkingYears           1176 non-null int64\n",
      "TrainingTimesLastYear       1176 non-null int64\n",
      "WorkLifeBalance             1176 non-null int64\n",
      "YearsAtCompany              1176 non-null int64\n",
      "YearsInCurrentRole          1176 non-null int64\n",
      "YearsSinceLastPromotion     1176 non-null int64\n",
      "YearsWithCurrManager        1176 non-null int64\n",
      "dtypes: int64(27), object(9)\n",
      "memory usage: 330.8+ KB\n"
     ]
    }
   ],
   "source": [
    "train.info()"
   ]
  },
  {
   "cell_type": "code",
   "execution_count": 7,
   "metadata": {
    "collapsed": true
   },
   "outputs": [
    {
     "name": "stdout",
     "output_type": "stream",
     "text": [
      "<class 'pandas.core.frame.DataFrame'>\n",
      "RangeIndex: 294 entries, 0 to 293\n",
      "Data columns (total 35 columns):\n",
      "user_id                     294 non-null int64\n",
      "Age                         294 non-null int64\n",
      "BusinessTravel              294 non-null object\n",
      "DailyRate                   294 non-null int64\n",
      "Department                  294 non-null object\n",
      "DistanceFromHome            294 non-null int64\n",
      "Education                   294 non-null int64\n",
      "EducationField              294 non-null object\n",
      "EmployeeCount               294 non-null int64\n",
      "EmployeeNumber              294 non-null int64\n",
      "EnvironmentSatisfaction     294 non-null int64\n",
      "Gender                      294 non-null object\n",
      "HourlyRate                  294 non-null int64\n",
      "JobInvolvement              294 non-null int64\n",
      "JobLevel                    294 non-null int64\n",
      "JobRole                     294 non-null object\n",
      "JobSatisfaction             294 non-null int64\n",
      "MaritalStatus               294 non-null object\n",
      "MonthlyIncome               294 non-null int64\n",
      "MonthlyRate                 294 non-null int64\n",
      "NumCompaniesWorked          294 non-null int64\n",
      "Over18                      294 non-null object\n",
      "OverTime                    294 non-null object\n",
      "PercentSalaryHike           294 non-null int64\n",
      "PerformanceRating           294 non-null int64\n",
      "RelationshipSatisfaction    294 non-null int64\n",
      "StandardHours               294 non-null int64\n",
      "StockOptionLevel            294 non-null int64\n",
      "TotalWorkingYears           294 non-null int64\n",
      "TrainingTimesLastYear       294 non-null int64\n",
      "WorkLifeBalance             294 non-null int64\n",
      "YearsAtCompany              294 non-null int64\n",
      "YearsInCurrentRole          294 non-null int64\n",
      "YearsSinceLastPromotion     294 non-null int64\n",
      "YearsWithCurrManager        294 non-null int64\n",
      "dtypes: int64(27), object(8)\n",
      "memory usage: 80.5+ KB\n"
     ]
    }
   ],
   "source": [
    "test.info()"
   ]
  },
  {
   "cell_type": "code",
   "execution_count": 9,
   "metadata": {},
   "outputs": [],
   "source": [
    "#预处理\n",
    "def trans_data(data):\n",
    "    cat_col = [i for i in data.select_dtypes(object).columns]\n",
    "    for i in tqdm_notebook(cat_col):\n",
    "        lbl = LabelEncoder()\n",
    "        data[i] = lbl.fit_transform(data[i].astype(str))\n",
    "    return data"
   ]
  },
  {
   "cell_type": "code",
   "execution_count": 10,
   "metadata": {
    "collapsed": true
   },
   "outputs": [
    {
     "data": {
      "application/vnd.jupyter.widget-view+json": {
       "model_id": "c5180753a8d64d26ad86d4531a05a64a",
       "version_major": 2,
       "version_minor": 0
      },
      "text/plain": [
       "HBox(children=(IntProgress(value=0, max=9), HTML(value='')))"
      ]
     },
     "metadata": {},
     "output_type": "display_data"
    },
    {
     "name": "stdout",
     "output_type": "stream",
     "text": [
      "\n"
     ]
    },
    {
     "data": {
      "application/vnd.jupyter.widget-view+json": {
       "model_id": "53e05a228bb844698be11ffe7097dac2",
       "version_major": 2,
       "version_minor": 0
      },
      "text/plain": [
       "HBox(children=(IntProgress(value=0, max=8), HTML(value='')))"
      ]
     },
     "metadata": {},
     "output_type": "display_data"
    },
    {
     "name": "stdout",
     "output_type": "stream",
     "text": [
      "\n"
     ]
    }
   ],
   "source": [
    "train = trans_data(train)\n",
    "test = trans_data(test)"
   ]
  },
  {
   "cell_type": "markdown",
   "metadata": {},
   "source": [
    "`模型训练`"
   ]
  },
  {
   "cell_type": "code",
   "execution_count": 18,
   "metadata": {},
   "outputs": [],
   "source": [
    "# 分割数据\n",
    "train_x, test_x, train_y, test_y = train_test_split(train,train.Attrition,test_size = 0.25,random_state=40)\n",
    "\n",
    "# 准备数据\n",
    "col = [i for i in train_x.columns if i not in ['Attrition','uesr_id','EmployeeNumber']]\n",
    "train_x = train_x[col]\n",
    "test_x = test_x[col]"
   ]
  },
  {
   "cell_type": "code",
   "execution_count": 19,
   "metadata": {},
   "outputs": [
    {
     "name": "stdout",
     "output_type": "stream",
     "text": [
      "auc is : 0.604235197368421\n"
     ]
    }
   ],
   "source": [
    "# 创建LR分类器\n",
    "lr = LogisticRegression()\n",
    "lr.fit(train_x,train_y)\n",
    "predict_y = lr.predict(test_x)\n",
    "\n",
    "auc = roc_auc_score(test_y,predict_y)\n",
    "print('auc is :',auc)"
   ]
  },
  {
   "cell_type": "markdown",
   "metadata": {},
   "source": [
    "`预测`"
   ]
  },
  {
   "cell_type": "code",
   "execution_count": 15,
   "metadata": {},
   "outputs": [],
   "source": [
    "col = [i for i in test.columns if i not in ['Attrition','user_id','EmployeeNumber']]\n",
    "test_train = test[col]"
   ]
  },
  {
   "cell_type": "code",
   "execution_count": 16,
   "metadata": {},
   "outputs": [],
   "source": [
    "test['Attrition'] = lr.predict(test_train)\n",
    "test[['user_id','Attrition']].to_csv('lr_predict.csv')"
   ]
  }
 ],
 "metadata": {
  "kernelspec": {
   "display_name": "Python 3",
   "language": "python",
   "name": "python3"
  },
  "language_info": {
   "codemirror_mode": {
    "name": "ipython",
    "version": 3
   },
   "file_extension": ".py",
   "mimetype": "text/x-python",
   "name": "python",
   "nbconvert_exporter": "python",
   "pygments_lexer": "ipython3",
   "version": "3.7.1"
  }
 },
 "nbformat": 4,
 "nbformat_minor": 2
}
